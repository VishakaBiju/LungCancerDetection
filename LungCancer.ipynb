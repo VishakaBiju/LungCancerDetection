{
 "cells": [
  {
   "cell_type": "code",
   "execution_count": 5,
   "id": "948b82a3-2c78-4dcf-b1df-52e31d56a248",
   "metadata": {},
   "outputs": [
    {
     "name": "stderr",
     "output_type": "stream",
     "text": [
      "Access is denied.\n"
     ]
    }
   ],
   "source": [
    "#!pip install scikit-learn"
   ]
  },
  {
   "cell_type": "code",
   "execution_count": null,
   "id": "6101ce58-7d63-48b5-b510-8e3be1c7492b",
   "metadata": {},
   "outputs": [],
   "source": [
    "import numpy as np\n",
    "import pandas as pd\n",
    "import matplotlib.pyplot as plt\n",
    "from PIL import Image\n",
    "from glob import glob\n",
    "\n",
    "from sklearn.model_selection import train_test_split\n",
    "from sklearn import metrics\n",
    "\n",
    "from zipfile import ZipFile\n",
    "import cv2\n",
    "import gc\n",
    "import os\n",
    "\n",
    "import tensorflow as tf\n",
    "from tensorflow import keras\n",
    "from keras import layers\n",
    "\n",
    "import warnings\n",
    "warnings.filterwarnings('ignore')"
   ]
  },
  {
   "cell_type": "code",
   "execution_count": null,
   "id": "24d41798-2883-4d18-aa11-01337aaaf9ad",
   "metadata": {},
   "outputs": [],
   "source": [
    "data_path = \"C:\\Users\\Vishaka\\OneDrive\\Downloads\\archive\"\n",
    "\n",
    "with ZipFile(data_path,'r') as zip:\n",
    "  zip.extractall()\n",
    "  print('The data set has been extracted.')"
   ]
  },
  {
   "cell_type": "code",
   "execution_count": null,
   "id": "b9591b14-ba12-4813-be7c-65772cdff800",
   "metadata": {},
   "outputs": [],
   "source": [
    "path = \"C:\\Users\\Vishaka\\OneDrive\\Downloads\\archive\"\n",
    "\n",
    "for cat in classes:\n",
    "    image_dir = f'{path}/{cat}'\n",
    "    images = os.listdir(image_dir)\n",
    "\n",
    "    fig, ax = plt.subplots(1, 3, figsize=(15, 5))\n",
    "    fig.suptitle(f'Images for {cat} category . . . .', fontsize=20)\n",
    "\n",
    "    for i in range(3):\n",
    "        k = np.random.randint(0, len(images))\n",
    "        img = np.array(Image.open(f'{path}/{cat}/{images[k]}'))\n",
    "        ax[i].imshow(img)\n",
    "        ax[i].axis('off')\n",
    "    plt.show()"
   ]
  },
  {
   "cell_type": "code",
   "execution_count": null,
   "id": "8f106df1-a58b-4676-b71c-3f6aba47c527",
   "metadata": {},
   "outputs": [],
   "source": [
    "data_path = 'lung-and-colon-cancer-histopathological-images.zip'\n",
    "\n",
    "with ZipFile(data_path,'r') as zip:\n",
    "  zip.extractall()\n",
    "  print('The data set has been extracted.')"
   ]
  },
  {
   "cell_type": "code",
   "execution_count": null,
   "id": "d25d1945-0405-4ec1-9367-8150fe87ead0",
   "metadata": {},
   "outputs": [],
   "source": [
    "IMG_SIZE = 256\n",
    "SPLIT = 0.2\n",
    "EPOCHS = 10\n",
    "BATCH_SIZE = 64\n",
    "\n",
    "X = []\n",
    "Y = []\n",
    "\n",
    "for i, cat in enumerate(classes):\n",
    "  images = glob(f'{path}/{cat}/*.jpeg')\n",
    "\n",
    "  for image in images:\n",
    "    img = cv2.imread(image)\n",
    "\n",
    "    X.append(cv2.resize(img, (IMG_SIZE, IMG_SIZE)))\n",
    "    Y.append(i)\n",
    "\n",
    "X = np.asarray(X)\n",
    "one_hot_encoded_Y = pd.get_dummies(Y).values\n",
    "\n",
    "X_train, X_val, Y_train, Y_val = train_test_split(X, one_hot_encoded_Y, test_size=SPLIT, random_state=2022)"
   ]
  },
  {
   "cell_type": "code",
   "execution_count": null,
   "id": "c98124b1-80bd-4f01-bbb1-05d20dec4d71",
   "metadata": {},
   "outputs": [],
   "source": [
    "model = keras.models.Sequential([\n",
    "    layers.Conv2D(filters=32,\n",
    "                  kernel_size=(5, 5),\n",
    "                  activation='relu',\n",
    "                  input_shape=(IMG_SIZE,\n",
    "                               IMG_SIZE,\n",
    "                               3),\n",
    "                  padding='same'),\n",
    "    layers.MaxPooling2D(2, 2),\n",
    "\n",
    "    layers.Conv2D(filters=64,\n",
    "                  kernel_size=(3, 3),\n",
    "                  activation='relu',\n",
    "                  padding='same'),\n",
    "    layers.MaxPooling2D(2, 2),\n",
    "\n",
    "    layers.Conv2D(filters=128,\n",
    "                  kernel_size=(3, 3),\n",
    "                  activation='relu',\n",
    "                  padding='same'),\n",
    "    layers.MaxPooling2D(2, 2),\n",
    "\n",
    "    layers.Flatten(),\n",
    "    layers.Dense(256, activation='relu'),\n",
    "    layers.BatchNormalization(),\n",
    "    layers.Dense(128, activation='relu'),\n",
    "    layers.Dropout(0.3),\n",
    "    layers.BatchNormalization(),\n",
    "    layers.Dense(3, activation='softmax')\n",
    "])\n",
    "model.summary()"
   ]
  },
  {
   "cell_type": "code",
   "execution_count": null,
   "id": "fcf00f5a-22f4-446d-ae01-35e4b16847ee",
   "metadata": {},
   "outputs": [],
   "source": [
    "history = model.fit(X_train, Y_train,\n",
    "                    validation_data = (X_val, Y_val),\n",
    "                    batch_size = BATCH_SIZE,\n",
    "                    epochs = EPOCHS,\n",
    "                    verbose = 1,\n",
    "                    callbacks = [es, lr, myCallback()])"
   ]
  },
  {
   "cell_type": "code",
   "execution_count": null,
   "id": "ede27e80-3850-4a4b-941e-ee6c87d6b599",
   "metadata": {},
   "outputs": [],
   "source": [
    "history_df = pd.DataFrame(history.history)\n",
    "history_df.loc[:,['accuracy','val_accuracy']].plot()\n",
    "plt.show()"
   ]
  },
  {
   "cell_type": "code",
   "execution_count": null,
   "id": "e08e8f60-f779-440a-8147-5db722866811",
   "metadata": {},
   "outputs": [],
   "source": [
    "Y_pred = model.predict(X_val)\n",
    "Y_val = np.argmax(Y_val, axis=1)\n",
    "Y_pred = np.argmax(Y_pred, axis=1)\n",
    "print(metrics.classification_report(Y_val, Y_pred,\n",
    "                                    target_names=classes))"
   ]
  },
  {
   "cell_type": "code",
   "execution_count": null,
   "id": "250aa72d-02ae-440d-8381-9430953a4793",
   "metadata": {},
   "outputs": [],
   "source": [
    "print(metrics.classification_report(Y_val, Y_pred,\n",
    "                                    target_names=classes))"
   ]
  }
 ],
 "metadata": {
  "kernelspec": {
   "display_name": "Python 3 (ipykernel)",
   "language": "python",
   "name": "python3"
  },
  "language_info": {
   "codemirror_mode": {
    "name": "ipython",
    "version": 3
   },
   "file_extension": ".py",
   "mimetype": "text/x-python",
   "name": "python",
   "nbconvert_exporter": "python",
   "pygments_lexer": "ipython3",
   "version": "3.13.5"
  }
 },
 "nbformat": 4,
 "nbformat_minor": 5
}
